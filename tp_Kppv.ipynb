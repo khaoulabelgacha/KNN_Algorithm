{
 "cells": [
  {
   "cell_type": "markdown",
   "metadata": {},
   "source": [
    "# Tp K plus proches voisins \n",
    "\n",
    "\n",
    "## Réaliser par: KAWTHAR MSSIAIDI | HAJAR LAZRAK SENHAJI | SALMA MEKAOUI\n",
    "\n"
   ]
  },
  {
   "cell_type": "markdown",
   "metadata": {},
   "source": [
    "\n",
    "### Implémentation des bibliothéques:"
   ]
  },
  {
   "cell_type": "code",
   "execution_count": 1,
   "metadata": {},
   "outputs": [],
   "source": [
    "from sklearn.datasets import * # chargement du package datasets contenant plusieurs jeu de données\n",
    "import pandas as pd # Chargement de Pandas\n",
    "import matplotlib.pyplot as plt # import de Matplotlib\n",
    "import numpy as np\n",
    "from sklearn.model_selection import train_test_split # classe utilitaire pour découper les jeux de données\n",
    "from sklearn.neighbors import KNeighborsClassifier # import de la classe de K-NN\n",
    "# l'interface graphic\n",
    "from PyQt5.QtWidgets import (QMainWindow,QComboBox, QTextEdit, QVBoxLayout, QPushButton, QAction, QFileDialog, QApplication)\n",
    "from PyQt5.QtGui import QIcon\n",
    "from PyQt5 import QtCore, QtGui, QtWidgets\n",
    "from PyQt5.QtCore import *\n",
    "from PyQt5.QtGui import *\n",
    "from PIL.ImageQt import ImageQt\n",
    "from matplotlib.backends.backend_qt5agg import FigureCanvasQTAgg\n",
    "from matplotlib.figure import Figure\n",
    "from PIL import Image"
   ]
  },
  {
   "cell_type": "markdown",
   "metadata": {},
   "source": [
    "\n",
    "### Interface graphic & les fonctions:\n"
   ]
  },
  {
   "cell_type": "code",
   "execution_count": 2,
   "metadata": {},
   "outputs": [],
   "source": [
    "class Ui_MainWindow(object):\n",
    "    def setupUi(self, MainWindow):\n",
    "        MainWindow.setObjectName(\"MainWindow\")\n",
    "        MainWindow.resize(1100, 500)\n",
    "        self.centralwidget = QtWidgets.QWidget(MainWindow)\n",
    "        self.centralwidget.setObjectName(\"centralwidget\")\n",
    "        \n",
    "       \n",
    "        #*********Button**\n",
    "        \n",
    "        \n",
    "        self.pushButton = QtWidgets.QPushButton(self.centralwidget)\n",
    "        self.pushButton.setGeometry(QtCore.QRect(900, 200, 181, 31))\n",
    "        self.pushButton.setObjectName(\"pushButton\")\n",
    "        self.pushButton.setStyleSheet(\"QPushButton\"\n",
    "                                      \"{\"\n",
    "                                      \"background-color : lightblue;\"\n",
    "                                      \"}\"\n",
    "                                      \"QPushButton::pressed\"\n",
    "                                      \"{\"\n",
    "                                      \"background-color:white;\"\n",
    "                                      \"}\"\n",
    "                                      )\n",
    "        \n",
    "        \n",
    "        \n",
    "        self.pushButton2 = QtWidgets.QPushButton(self.centralwidget)\n",
    "        self.pushButton2.setGeometry(QtCore.QRect(900, 300, 181, 31))\n",
    "        self.pushButton2.setObjectName(\"pushButton\")\n",
    "        self.pushButton2.setStyleSheet(\"QPushButton\"\n",
    "                                      \"{\"\n",
    "                                      \"background-color : lightblue;\"\n",
    "                                      \"}\"\n",
    "                                      \"QPushButton::pressed\"\n",
    "                                      \"{\"\n",
    "                                      \"background-color:white;\"\n",
    "                                      \"}\"\n",
    "                                      )\n",
    "        self.pushButton3 = QtWidgets.QPushButton(self.centralwidget)\n",
    "        self.pushButton3.setGeometry(QtCore.QRect(900, 250, 181, 31))\n",
    "        self.pushButton3.setObjectName(\"pushButton\")\n",
    "        self.pushButton3.setStyleSheet(\"QPushButton\"\n",
    "                                      \"{\"\n",
    "                                      \"background-color : lightblue;\"\n",
    "                                      \"}\"\n",
    "                                      \"QPushButton::pressed\"\n",
    "                                      \"{\"\n",
    "                                      \"background-color:white;\"\n",
    "                                      \"}\"\n",
    "                                      )\n",
    "        #****** label *****\n",
    "        self.ImageOrigine = QtWidgets.QLabel(self.centralwidget)\n",
    "        self.ImageOrigine.setGeometry(QtCore.QRect(410, 140, 100, 100))\n",
    "        self.ImageOrigine.setText(\"\")\n",
    "        self.ImageOrigine.setObjectName(\"label_3\")\n",
    "        \n",
    "        self.ImageOrigine.setStyleSheet(\"background-color:lightblue;\")\n",
    "        \n",
    "        self.label = QtWidgets.QLabel(self.centralwidget)\n",
    "        self.label.setGeometry(QtCore.QRect(450, 50, 911, 21))\n",
    "        font=QtGui.QFont()\n",
    "        font.setPointSize(12)\n",
    "        font.setItalic(True)\n",
    "        font.setWeight(75)\n",
    "        self.label.setFont(font)\n",
    "        self.label.setObjectName(\"label\")\n",
    "        \n",
    "        self.label_7 = QtWidgets.QLabel(self.centralwidget)\n",
    "        self.label_7.setGeometry(QtCore.QRect(100, 300, 351, 231))\n",
    "        self.label_7.setText(\"Veuillez choisir votre image\")\n",
    "        self.label_7.setObjectName(\"label_7\")\n",
    "        font=QtGui.QFont()\n",
    "        font.setPointSize(12)\n",
    "        font.setItalic(True)\n",
    "        font.setWeight(75)\n",
    "        self.label_7.setFont(font)\n",
    "        self.label_7.setObjectName(\"label\")\n",
    "        \n",
    "        MainWindow.setCentralWidget(self.centralwidget)\n",
    "        \n",
    "        \n",
    "        #*****line for sperate **\n",
    "        self.line = QtWidgets.QFrame(self.centralwidget)\n",
    "        self.line.setGeometry(QtCore.QRect(100, 100, 800, 561))\n",
    "        self.line.setFrameShape(QtWidgets.QFrame.HLine)\n",
    "        self.line.setFrameShadow(QtWidgets.QFrame.Sunken)\n",
    "        self.line.setObjectName(\"line\")\n",
    "        \n",
    "    \n",
    "        self.pushButton.clicked.connect(self.apprentisage)\n",
    "        self.pushButton2.clicked.connect(self.test)\n",
    "        self.pushButton3.clicked.connect(self.inputdial)\n",
    "        self.retranslateUi(MainWindow)\n",
    "        QtCore.QMetaObject.connectSlotsByName(MainWindow)\n",
    "\n",
    "    def retranslateUi(self, MainWindow):\n",
    "        \n",
    "        _translate = QtCore.QCoreApplication.translate\n",
    "        MainWindow.setWindowTitle(_translate(\"MainWindow\", \"Reconnaissance des Images\"))\n",
    "               \n",
    "        self.pushButton.setText(_translate(\"MainWindow\", \"apprentisage\"))\n",
    "        self.pushButton2.setText(_translate(\"MainWindow\", \"Teste\"))\n",
    "        self.pushButton3.setText(_translate(\"MainWindow\", \"Choissir l'image de test\"))\n",
    "        self.label.setText(_translate(\"MainWindow\", \"Image à testé:\"))\n",
    "        \n",
    "        \n",
    "         #**********input***\n",
    "    def inputdial(self):\n",
    "       \n",
    "        self.roll, self.done = QtWidgets.QInputDialog.getInt(\n",
    "        self.centralwidget, 'Image de test', 'choisissez de 1347:1797') \n",
    "        fig = Figure(figsize=(5, 4), dpi=100)\n",
    "        self.displayImage(self.roll)\n",
    "        sc=plt.imshow(digit['images'][self.roll], cmap='Greys_r')\n",
    "        image1 = Image.fromarray(np.uint8( sc.get_cmap()(sc.get_array())*255))\n",
    "        if (self.done):\n",
    "            qimage = ImageQt(image1)\n",
    "            pixmap = QtGui.QPixmap.fromImage(qimage)\n",
    "            pixmap5 = pixmap.scaled(100, 100,QtCore.Qt.KeepAspectRatio)\n",
    "            self.ImageOrigine.setPixmap(pixmap5)\n",
    "\n",
    "            \n",
    "            \n",
    "     #*****************Les fonctions :************\n",
    "    \n",
    "    \n",
    "    def apprentisage(self):\n",
    "          \n",
    "          KNN.fit(x_train, y_train)\n",
    "          print(\"apprentissage réussi\")\n",
    "    \n",
    "          \n",
    "\n",
    "    #Méthode displayImage pour afficher des données images (méthode optionnelle)\n",
    "    def displayImage(self,i):\n",
    "           plt.imshow(digit['images'][i], cmap='Greys_r')\n",
    "           plt.show()\n",
    "\n",
    "    def test(self):\n",
    "        #la précision par rapport aux données de test\n",
    "           print(KNN.score(x_test,y_test))\n",
    "        #Afficher un élement de la matrice format image\n",
    "           test = np.array(digit['data'][self.roll])\n",
    "           test1 = test.reshape(1,-1)\n",
    "    #prédiction \n",
    "           k=KNN.predict(test1)\n",
    "           print(k)\n",
    "           self.label_7.setText(\"le resultat : =====> \"+str(k))"
   ]
  },
  {
   "cell_type": "markdown",
   "metadata": {},
   "source": [
    "\n",
    "### Main & jeu de donnée:\n"
   ]
  },
  {
   "cell_type": "code",
   "execution_count": 3,
   "metadata": {},
   "outputs": [
    {
     "data": {
      "image/png": "[encoded data removed]",
      "text/plain": [
       "<Figure size 432x288 with 1 Axes>"
      ]
     },
     "metadata": {
      "needs_background": "light"
     },
     "output_type": "display_data"
    },
    {
     "name": "stdout",
     "output_type": "stream",
     "text": [
      "apprentissage réussi\n"
     ]
    },
    {
     "data": {
      "image/png": "[encoded data removed]",
      "text/plain": [
       "<Figure size 432x288 with 1 Axes>"
      ]
     },
     "metadata": {
      "needs_background": "light"
     },
     "output_type": "display_data"
    },
    {
     "name": "stdout",
     "output_type": "stream",
     "text": [
      "0.9555555555555556\n",
      "[2]\n"
     ]
    },
    {
     "data": {
      "image/png": "[encoded data removed]",
      "text/plain": [
       "<Figure size 432x288 with 1 Axes>"
      ]
     },
     "metadata": {
      "needs_background": "light"
     },
     "output_type": "display_data"
    },
    {
     "name": "stdout",
     "output_type": "stream",
     "text": [
      "0.9555555555555556\n",
      "[7]\n",
      "0.9555555555555556\n",
      "[7]\n"
     ]
    },
    {
     "data": {
      "image/png": "[encoded data removed]",
      "text/plain": [
       "<Figure size 432x288 with 1 Axes>"
      ]
     },
     "metadata": {
      "needs_background": "light"
     },
     "output_type": "display_data"
    },
    {
     "name": "stdout",
     "output_type": "stream",
     "text": [
      "0.9555555555555556\n",
      "[5]\n"
     ]
    },
    {
     "data": {
      "image/png": "[encoded data removed]",
      "text/plain": [
       "<Figure size 432x288 with 1 Axes>"
      ]
     },
     "metadata": {
      "needs_background": "light"
     },
     "output_type": "display_data"
    },
    {
     "name": "stdout",
     "output_type": "stream",
     "text": [
      "0.9555555555555556\n",
      "[3]\n"
     ]
    },
    {
     "data": {
      "image/png": "[encoded data removed]",
      "text/plain": [
       "<Figure size 432x288 with 1 Axes>"
      ]
     },
     "metadata": {
      "needs_background": "light"
     },
     "output_type": "display_data"
    }
   ],
   "source": [
    "if __name__ == \"__main__\":\n",
    "    import sys\n",
    "    \n",
    "    digit = load_digits() # chargement du dataset MNIST\n",
    "    dig = pd.DataFrame(digit['data'][0:1797]) # Création d'un dataframe Panda\n",
    "    dig.head() # affiche le tableau ci-dessous\n",
    "    plt.imshow(digit['images'][0], cmap='Greys_r')\n",
    "    plt.show() # affichage de la première image du jeu de données MNIST\n",
    "    digit.keys()\n",
    "    train_x = digit.data # les input variables\n",
    "    train_y =  digit.target # les étiquettes (output variable)\n",
    "    #découpage du jeu de données : 75% en Training set & 25% en Testing set\n",
    "    x_train,x_test,y_train,y_test=train_test_split(train_x,train_y,test_size=0.25,shuffle=False)\n",
    "    KNN = KNeighborsClassifier(7)# on veut entrainer un 7-NN Classifier (on utilise 7 voisins)\n",
    "    app = QtWidgets.QApplication(sys.argv)\n",
    "    MainWindow = QtWidgets.QMainWindow()\n",
    "    \n",
    "    ui = Ui_MainWindow()\n",
    "    ui.setupUi(MainWindow)\n",
    "    MainWindow.show()\n",
    "    app.exec_() "
   ]
  },
  {
   "cell_type": "code",
   "execution_count": null,
   "metadata": {},
   "outputs": [],
   "source": []
  }
 ],
 "metadata": {
  "kernelspec": {
   "display_name": "Python 3",
   "language": "python",
   "name": "python3"
  },
  "language_info": {
   "codemirror_mode": {
    "name": "ipython",
    "version": 3
   },
   "file_extension": ".py",
   "mimetype": "text/x-python",
   "name": "python",
   "nbconvert_exporter": "python",
   "pygments_lexer": "ipython3",
   "version": "3.8.8"
  }
 },
 "nbformat": 4,
 "nbformat_minor": 4
}
